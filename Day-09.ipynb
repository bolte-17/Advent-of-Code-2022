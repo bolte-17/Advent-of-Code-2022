{
 "cells": [
  {
   "cell_type": "code",
   "execution_count": null,
   "metadata": {
    "dotnet_interactive": {
     "language": "fsharp"
    }
   },
   "outputs": [],
   "source": [
    "let parseDirection = function\n",
    "  | 'R' -> (1, 0)\n",
    "  | 'L' -> (-1, 0)\n",
    "  | 'U' -> (0, 1)\n",
    "  | 'D' -> (0, -1)\n",
    "\n",
    "let input = \n",
    "  File.ReadAllLines \"inputs/09/input.txt\"\n",
    "  |> Seq.collect (fun s -> Seq.replicate (Int32.Parse s[2..]) (parseDirection s[0]))\n",
    "\n",
    "let dot f (a,b) (c,d) = (f a c, f b d)\n",
    "let (.+) = dot (+)\n",
    "let (.-) = dot (-)\n",
    "\n",
    "let map f (x,y) = (f x, f y)\n",
    "let norm x = map abs x ||> max\n",
    "\n",
    "let follow t h =\n",
    "  let d = h .- t\n",
    "  if norm d > 1 then t .+ map sign d else t\n",
    "\n",
    "let headPath = input |> Seq.scan (.+) (0,0)\n",
    "\n",
    "headPath\n",
    "|> Seq.scan follow (0,0)\n",
    "|> Seq.distinct\n",
    "|> Seq.length"
   ]
  },
  {
   "cell_type": "code",
   "execution_count": null,
   "metadata": {
    "dotnet_interactive": {
     "language": "fsharp"
    }
   },
   "outputs": [],
   "source": [
    "headPath\n",
    "|> (Seq.replicate 9 >> Seq.reduce (>>)) (Seq.scan follow (0,0))\n",
    "|> Seq.distinct\n",
    "|> Seq.length"
   ]
  }
 ],
 "metadata": {
  "kernelspec": {
   "display_name": ".NET (C#)",
   "language": "C#",
   "name": ".net-csharp"
  },
  "polyglot_notebook": {
   "kernelInfo": {
    "defaultKernelName": "csharp",
    "items": [
     {
      "aliases": [
       "c#",
       "C#"
      ],
      "languageName": "C#",
      "name": "csharp"
     },
     {
      "aliases": [],
      "name": ".NET"
     },
     {
      "aliases": [
       "f#",
       "F#"
      ],
      "languageName": "F#",
      "name": "fsharp"
     },
     {
      "aliases": [],
      "languageName": "HTML",
      "name": "html"
     },
     {
      "aliases": [
       "js"
      ],
      "languageName": "JavaScript",
      "name": "javascript"
     },
     {
      "aliases": [],
      "languageName": "KQL",
      "name": "kql"
     },
     {
      "aliases": [],
      "languageName": "Mermaid",
      "name": "mermaid"
     },
     {
      "aliases": [
       "powershell"
      ],
      "languageName": "PowerShell",
      "name": "pwsh"
     },
     {
      "aliases": [],
      "languageName": "SQL",
      "name": "sql"
     },
     {
      "aliases": [],
      "name": "value"
     },
     {
      "aliases": [
       "frontend"
      ],
      "name": "vscode"
     },
     {
      "aliases": [],
      "name": "webview"
     }
    ]
   }
  }
 },
 "nbformat": 4,
 "nbformat_minor": 2
}
