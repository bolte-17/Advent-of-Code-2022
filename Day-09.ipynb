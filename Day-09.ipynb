{
 "cells": [
  {
   "cell_type": "code",
   "execution_count": 42,
   "metadata": {
    "dotnet_interactive": {
     "language": "fsharp"
    },
    "vscode": {
     "languageId": "dotnet-interactive.fsharp"
    }
   },
   "outputs": [
    {
     "data": {
      "text/html": [
       "<div class=\"dni-plaintext\">6486</div>"
      ]
     },
     "metadata": {},
     "output_type": "display_data"
    }
   ],
   "source": [
    "let parseDirection = function\n",
    "  | 'R' -> (1, 0)\n",
    "  | 'L' -> (-1, 0)\n",
    "  | 'U' -> (0, 1)\n",
    "  | 'D' -> (0, -1)\n",
    "\n",
    "let input = \n",
    "  File.ReadAllLines \"inputs/09/input.txt\"\n",
    "  |> Seq.collect (fun s -> Seq.replicate (Int32.Parse s[2..]) (parseDirection s[0]))\n",
    "\n",
    "let dot f (a,b) (c,d) = (f a c, f b d)\n",
    "let (.+) = dot (+)\n",
    "let (.-) = dot (-)\n",
    "\n",
    "let map f (x,y) = (f x, f y)\n",
    "let norm x = map abs x ||> max\n",
    "\n",
    "let follow t h =\n",
    "  let d = h .- t\n",
    "  if norm d > 1 then t .+ map sign d else t\n",
    "\n",
    "let headPath = input |> Seq.scan (.+) (0,0)\n",
    "\n",
    "headPath\n",
    "|> Seq.scan follow (0,0)\n",
    "|> Seq.distinct\n",
    "|> Seq.length"
   ]
  },
  {
   "cell_type": "code",
   "execution_count": 41,
   "metadata": {
    "dotnet_interactive": {
     "language": "fsharp"
    },
    "vscode": {
     "languageId": "dotnet-interactive.fsharp"
    }
   },
   "outputs": [
    {
     "data": {
      "text/html": [
       "<div class=\"dni-plaintext\">2678</div>"
      ]
     },
     "metadata": {},
     "output_type": "display_data"
    }
   ],
   "source": [
    "headPath\n",
    "|> (Seq.replicate 9 >> Seq.reduce (>>)) (Seq.scan follow (0,0))\n",
    "|> Seq.distinct\n",
    "|> Seq.length"
   ]
  }
 ],
 "metadata": {
  "kernelspec": {
   "display_name": ".NET (C#)",
   "language": "C#",
   "name": ".net-csharp"
  },
  "language_info": {
   "file_extension": ".cs",
   "mimetype": "text/x-csharp",
   "name": "C#",
   "pygments_lexer": "csharp",
   "version": "9.0"
  },
  "orig_nbformat": 4
 },
 "nbformat": 4,
 "nbformat_minor": 2
}
