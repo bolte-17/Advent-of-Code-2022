{
 "cells": [
  {
   "cell_type": "code",
   "execution_count": 4,
   "metadata": {
    "dotnet_interactive": {
     "language": "fsharp"
    },
    "vscode": {
     "languageId": "dotnet-interactive.fsharp"
    }
   },
   "outputs": [],
   "source": [
    "type Command =\n",
    "  | CDRoot\n",
    "  | CD of name: string\n",
    "  | CDParent\n",
    "  | LSFile of name: string * size: int\n",
    "\n",
    "let parseCommand (s: string) = \n",
    "  match s.Split(' ') with\n",
    "    | [|\"$\"; \"cd\"; \"/\" |] -> Some CDRoot\n",
    "    | [|\"$\"; \"cd\"; \"..\" |] -> Some CDParent\n",
    "    | [|\"$\"; \"cd\"; dirName |] -> Some (CD dirName)\n",
    "    | [|\"$\"; \"ls\"|] | [|\"dir\"; _|] -> None // We don't need these lines\n",
    "    | [|size; fileName|] -> Some (LSFile (fileName, int size))\n",
    "    | _ -> invalidArg s \"Invalid argument\"\n",
    "\n",
    "let commands = \n",
    "  File.ReadAllLines \"inputs/07/input.txt\"\n",
    "  |> Array.toList\n",
    "  |> List.choose parseCommand"
   ]
  },
  {
   "cell_type": "code",
   "execution_count": 5,
   "metadata": {
    "dotnet_interactive": {
     "language": "fsharp"
    },
    "vscode": {
     "languageId": "dotnet-interactive.fsharp"
    }
   },
   "outputs": [
    {
     "data": {
      "text/html": [
       "<div class=\"dni-plaintext\">1315285</div>"
      ]
     },
     "metadata": {},
     "output_type": "display_data"
    }
   ],
   "source": [
    "type FSItem =\n",
    "  | FSDir of FSDir\n",
    "  | FSFile of FSFile\n",
    "  member self.size = FSItem.sizeOf self\n",
    "  static member sizeOf = function FSDir {size = size} | FSFile {size = size} -> size\n",
    "  static member isFile = function FSDir _ -> false | FSFile _ -> true\n",
    "  static member isDir = not << FSItem.isFile\n",
    "and FSDir = {name: string; size: int; children: FSItem list} with \n",
    "  static member Default = {name = \"\"; size = 0; children = []}\n",
    "  member self.addChild child = \n",
    "    {\n",
    "      self with \n",
    "        children = child :: self.children;\n",
    "        size = child.size + self.size\n",
    "    }\n",
    "and FSFile = {name: string; size: int}\n",
    "\n",
    "let parseFilesystem = function\n",
    "  | CDRoot :: commands -> \n",
    "    let rec parseDir commands (currentDir: FSDir) =\n",
    "      match commands with\n",
    "      | CD dirName :: rest -> \n",
    "        let child, cmds = {FSDir.Default with name = dirName} |> parseDir rest \n",
    "        currentDir.addChild (FSDir child)\n",
    "        |> parseDir cmds\n",
    "\n",
    "      | LSFile (fileName, size) :: rest -> \n",
    "        currentDir.addChild (FSFile {name = fileName; size = size})\n",
    "        |> parseDir rest\n",
    "\n",
    "      | CDParent :: rest -> currentDir, rest\n",
    "      | [] -> currentDir, []\n",
    "      | CDRoot :: rest -> invalidArg \"cd /\" \"Only one root expected\"\n",
    "    parseDir commands {FSDir.Default with name = \"/\"} |> fst\n",
    "  | _ -> invalidArg \"commands\" \"Expected 'cd /' to begin command list\"\n",
    "\n",
    "let filesystem = parseFilesystem commands\n",
    "\n",
    "let rec traverse dir = seq {\n",
    "    yield FSDir dir\n",
    "    for child in dir.children do\n",
    "      match child with\n",
    "      | FSFile _ -> yield child\n",
    "      | FSDir childDir -> yield! traverse childDir\n",
    "  }\n",
    "\n",
    "traverse filesystem\n",
    "|> Seq.filter FSItem.isDir\n",
    "|> Seq.map FSItem.sizeOf\n",
    "|> Seq.filter ((>=) 100000)\n",
    "|> Seq.sum"
   ]
  },
  {
   "cell_type": "code",
   "execution_count": 6,
   "metadata": {
    "dotnet_interactive": {
     "language": "fsharp"
    },
    "vscode": {
     "languageId": "dotnet-interactive.fsharp"
    }
   },
   "outputs": [
    {
     "data": {
      "text/html": [
       "<div class=\"dni-plaintext\">9847279</div>"
      ]
     },
     "metadata": {},
     "output_type": "display_data"
    }
   ],
   "source": [
    "let diskSpace = 70_000_000\n",
    "let neededFreeSpace = 30_000_000\n",
    "let usedSpace = filesystem.size\n",
    "let freeSpace = diskSpace - usedSpace\n",
    "let needToFree = neededFreeSpace - freeSpace\n",
    "\n",
    "traverse filesystem\n",
    "|> Seq.filter FSItem.isDir\n",
    "|> Seq.map FSItem.sizeOf\n",
    "|> Seq.sort\n",
    "|> Seq.find ((<=) needToFree)"
   ]
  }
 ],
 "metadata": {
  "kernelspec": {
   "display_name": ".NET (C#)",
   "language": "C#",
   "name": ".net-csharp"
  },
  "language_info": {
   "file_extension": ".cs",
   "mimetype": "text/x-csharp",
   "name": "C#",
   "pygments_lexer": "csharp",
   "version": "9.0"
  },
  "orig_nbformat": 4
 },
 "nbformat": 4,
 "nbformat_minor": 2
}
