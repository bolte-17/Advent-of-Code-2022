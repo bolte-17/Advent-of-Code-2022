{
 "cells": [
  {
   "cell_type": "code",
   "execution_count": null,
   "metadata": {
    "dotnet_interactive": {
     "language": "fsharp"
    }
   },
   "outputs": [],
   "source": [
    "let directions = \n",
    "  Seq.allPairs [id; Array.transpose] [id; Seq.map Array.rev]\n",
    "  |> Seq.map (fun (f,g) -> f >> g)\n",
    "\n",
    "let grid = \n",
    "  File.ReadAllLines \"inputs/08/input.txt\"\n",
    "  |> Array.map (Seq.toArray >> Array.map (int >> (+) (-int '0')))\n",
    "  |> Array.mapi (fun i -> Array.indexed >> Array.map (fun (j,x) -> ((i,j),x)))\n",
    "\n",
    "directions\n",
    "|> Seq.collect ((|>) grid)\n",
    "|> Seq.collect (Seq.scan (fun ((_,m) as a) ((_,v) as x) -> if v > m then x else a) ((-1,-1),-1) >> Seq.tail >> Seq.map fst)\n",
    "|> Seq.distinct\n",
    "|> Seq.length"
   ]
  },
  {
   "cell_type": "code",
   "execution_count": null,
   "metadata": {
    "dotnet_interactive": {
     "language": "fsharp"
    }
   },
   "outputs": [],
   "source": [
    "let viewingDistances =\n",
    "  Seq.indexed\n",
    "  >> Seq.mapFold (fun a (i, (i2, h) as x) -> ((i2, i - (List.item h a)), List.replicate (h+1) i @ List.skip (h+1) a)) (List.replicate 10 0)\n",
    "  >> fst\n",
    "\n",
    "directions\n",
    "|> Seq.collect ((|>) grid)\n",
    "|> Seq.collect viewingDistances\n",
    "|> Seq.groupBy fst\n",
    "|> Seq.map (snd >> Seq.map snd >> Seq.reduce (*))\n",
    "|> Seq.max"
   ]
  }
 ],
 "metadata": {
  "kernelspec": {
   "display_name": ".NET (C#)",
   "language": "C#",
   "name": ".net-csharp"
  },
  "polyglot_notebook": {
   "kernelInfo": {
    "defaultKernelName": "csharp",
    "items": [
     {
      "aliases": [
       "c#",
       "C#"
      ],
      "languageName": "C#",
      "name": "csharp"
     },
     {
      "aliases": [],
      "name": ".NET"
     },
     {
      "aliases": [
       "f#",
       "F#"
      ],
      "languageName": "F#",
      "name": "fsharp"
     },
     {
      "aliases": [],
      "languageName": "HTML",
      "name": "html"
     },
     {
      "aliases": [
       "js"
      ],
      "languageName": "JavaScript",
      "name": "javascript"
     },
     {
      "aliases": [],
      "languageName": "KQL",
      "name": "kql"
     },
     {
      "aliases": [],
      "languageName": "Mermaid",
      "name": "mermaid"
     },
     {
      "aliases": [
       "powershell"
      ],
      "languageName": "PowerShell",
      "name": "pwsh"
     },
     {
      "aliases": [],
      "languageName": "SQL",
      "name": "sql"
     },
     {
      "aliases": [],
      "name": "value"
     },
     {
      "aliases": [
       "frontend"
      ],
      "name": "vscode"
     },
     {
      "aliases": [],
      "name": "webview"
     }
    ]
   }
  }
 },
 "nbformat": 4,
 "nbformat_minor": 2
}
