{
 "cells": [
  {
   "cell_type": "code",
   "execution_count": 59,
   "metadata": {
    "dotnet_interactive": {
     "language": "fsharp"
    },
    "vscode": {
     "languageId": "dotnet-interactive.fsharp"
    }
   },
   "outputs": [
    {
     "data": {
      "text/html": [
       "<div class=\"dni-plaintext\">1859</div>"
      ]
     },
     "metadata": {},
     "output_type": "display_data"
    }
   ],
   "source": [
    "let directions = \n",
    "  Seq.allPairs [id; Array.transpose] [id; Seq.map Array.rev]\n",
    "  |> Seq.map (fun (f,g) -> f >> g)\n",
    "\n",
    "let grid = \n",
    "  File.ReadAllLines \"inputs/08/input.txt\"\n",
    "  |> Array.map (Seq.toArray >> Array.map (int >> (+) (-int '0')))\n",
    "  |> Array.mapi (fun i -> Array.indexed >> Array.map (fun (j,x) -> ((i,j),x)))\n",
    "\n",
    "directions\n",
    "|> Seq.collect ((|>) grid)\n",
    "|> Seq.collect (Seq.scan (fun ((_,m) as a) ((_,v) as x) -> if v > m then x else a) ((-1,-1),-1) >> Seq.tail >> Seq.map fst)\n",
    "|> Seq.distinct\n",
    "|> Seq.length"
   ]
  },
  {
   "cell_type": "code",
   "execution_count": 82,
   "metadata": {
    "dotnet_interactive": {
     "language": "fsharp"
    },
    "vscode": {
     "languageId": "dotnet-interactive.fsharp"
    }
   },
   "outputs": [
    {
     "data": {
      "text/html": [
       "<div class=\"dni-plaintext\">332640</div>"
      ]
     },
     "metadata": {},
     "output_type": "display_data"
    }
   ],
   "source": [
    "let viewingDistances =\n",
    "  Seq.indexed\n",
    "  >> Seq.mapFold (fun a (i, (i2, h) as x) -> ((i2, i - (List.item h a)), List.replicate (h+1) i @ List.skip (h+1) a)) (List.replicate 10 0)\n",
    "  >> fst\n",
    "\n",
    "directions\n",
    "|> Seq.collect ((|>) grid)\n",
    "|> Seq.collect viewingDistances\n",
    "|> Seq.groupBy fst\n",
    "|> Seq.map (snd >> Seq.map snd >> Seq.reduce (*))\n",
    "|> Seq.max"
   ]
  }
 ],
 "metadata": {
  "kernelspec": {
   "display_name": ".NET (C#)",
   "language": "C#",
   "name": ".net-csharp"
  },
  "language_info": {
   "file_extension": ".cs",
   "mimetype": "text/x-csharp",
   "name": "C#",
   "pygments_lexer": "csharp",
   "version": "9.0"
  },
  "orig_nbformat": 4
 },
 "nbformat": 4,
 "nbformat_minor": 2
}
