{
 "cells": [
  {
   "cell_type": "markdown",
   "metadata": {},
   "source": [
    "### Day 2: Rock Paper Scissors \n",
    "The Elves begin to set up camp on the beach. To decide whose tent gets to be closest to the snack storage, a giant Rock Paper Scissors tournament is already in progress.\n",
    "\n",
    "Rock Paper Scissors is a game between two players. Each game contains many rounds; in each round, the players each simultaneously choose one of Rock, Paper, or Scissors using a hand shape. Then, a winner for that round is selected: Rock defeats Scissors, Scissors defeats Paper, and Paper defeats Rock. If both players choose the same shape, the round instead ends in a draw.\n",
    "\n",
    "Appreciative of your help yesterday, one Elf gives you an encrypted strategy guide (your puzzle input) that they say will be sure to help you win. \"The first column is what your opponent is going to play: A for Rock, B for Paper, and C for Scissors. The second column--\" Suddenly, the Elf is called away to help with someone's tent.\n",
    "\n",
    "The second column, you reason, must be what you should play in response: X for Rock, Y for Paper, and Z for Scissors. Winning every time would be suspicious, so the responses must have been carefully chosen.\n",
    "\n",
    "The winner of the whole tournament is the player with the highest score. Your total score is the sum of your scores for each round. The score for a single round is the score for the shape you selected (1 for Rock, 2 for Paper, and 3 for Scissors) plus the score for the outcome of the round (0 if you lost, 3 if the round was a draw, and 6 if you won).\n",
    "\n",
    "Since you can't be sure if the Elf is trying to help you or trick you, you should calculate the score you would get if you were to follow the strategy guide.\n",
    "\n",
    "For example, suppose you were given the following strategy guide:\n",
    "\n",
    "    A Y\n",
    "    B X\n",
    "    C Z\n",
    "\n",
    "This strategy guide predicts and recommends the following:\n",
    "\n",
    "In the first round, your opponent will choose Rock (A), and you should choose Paper (Y). This ends in a win for you with a score of 8 (2 because you chose Paper + 6 because you won).\n",
    "In the second round, your opponent will choose Paper (B), and you should choose Rock (X). This ends in a loss for you with a score of 1 (1 + 0).\n",
    "The third round is a draw with both players choosing Scissors, giving you a score of 3 + 3 = 6.\n",
    "In this example, if you were to follow the strategy guide, you would get a total score of 15 (8 + 1 + 6).\n",
    "\n",
    "What would your total score be if everything goes exactly according to your strategy guide?"
   ]
  },
  {
   "cell_type": "code",
   "execution_count": 12,
   "metadata": {
    "dotnet_interactive": {
     "language": "fsharp"
    },
    "vscode": {
     "languageId": "dotnet-interactive.fsharp"
    }
   },
   "outputs": [
    {
     "data": {
      "text/html": [
       "<table><thead><tr><th><i>index</i></th><th>Item1</th><th>Item2</th></tr></thead><tbody><tr><td>0</td><td><span>Scissors</span></td><td><span>Rock</span></td></tr><tr><td>1</td><td><span>Scissors</span></td><td><span>Rock</span></td></tr><tr><td>2</td><td><span>Scissors</span></td><td><span>Rock</span></td></tr><tr><td>3</td><td><span>Rock</span></td><td><span>Scissors</span></td></tr><tr><td>4</td><td><span>Scissors</span></td><td><span>Rock</span></td></tr><tr><td>5</td><td><span>Scissors</span></td><td><span>Scissors</span></td></tr><tr><td>6</td><td><span>Scissors</span></td><td><span>Rock</span></td></tr><tr><td>7</td><td><span>Paper</span></td><td><span>Paper</span></td></tr><tr><td>8</td><td><span>Scissors</span></td><td><span>Rock</span></td></tr><tr><td>9</td><td><span>Scissors</span></td><td><span>Rock</span></td></tr><tr><td>10</td><td><span>Scissors</span></td><td><span>Rock</span></td></tr><tr><td>11</td><td><span>Paper</span></td><td><span>Paper</span></td></tr><tr><td>12</td><td><span>Scissors</span></td><td><span>Rock</span></td></tr><tr><td>13</td><td><span>Paper</span></td><td><span>Scissors</span></td></tr><tr><td>14</td><td><span>Scissors</span></td><td><span>Scissors</span></td></tr><tr><td>15</td><td><span>Scissors</span></td><td><span>Rock</span></td></tr><tr><td>16</td><td><span>Scissors</span></td><td><span>Rock</span></td></tr><tr><td>17</td><td><span>Scissors</span></td><td><span>Scissors</span></td></tr><tr><td>18</td><td><span>Scissors</span></td><td><span>Scissors</span></td></tr><tr><td>19</td><td><span>Paper</span></td><td><span>Paper</span></td></tr><tr><td colspan=\"3\"><i>... (more)</i></td></tr></tbody></table>"
      ]
     },
     "metadata": {},
     "output_type": "display_data"
    }
   ],
   "source": [
    "type RPS = \n",
    "  | Rock = 1 \n",
    "  | Paper = 2\n",
    "  | Scissors = 3\n",
    "\n",
    "let parseLine (l: string) = \n",
    "  (enum<RPS> (int l[0] - int 'A' + 1), enum<RPS> (int l[2] - int 'X' + 1))\n",
    "  \n",
    "let guide = \n",
    "  File.ReadAllLines \"inputs/02/input.txt\"\n",
    "  |> Seq.map parseLine\n",
    "\n",
    "guide"
   ]
  },
  {
   "cell_type": "code",
   "execution_count": 13,
   "metadata": {
    "dotnet_interactive": {
     "language": "fsharp"
    },
    "vscode": {
     "languageId": "dotnet-interactive.fsharp"
    }
   },
   "outputs": [
    {
     "data": {
      "text/html": [
       "<div class=\"dni-plaintext\">14375</div>"
      ]
     },
     "metadata": {},
     "output_type": "display_data"
    }
   ],
   "source": [
    "type MatchResult =\n",
    "  | Lose = 0\n",
    "  | Draw = 3\n",
    "  | Win = 6\n",
    "\n",
    "let matchResult = function\n",
    "  | x, y when x = y -> MatchResult.Draw\n",
    "  | x, y when int x - int y = 1 || int y - int x = 2 -> MatchResult.Lose\n",
    "  | _ -> MatchResult.Win\n",
    "\n",
    "let matchScore (opp, you) = int (matchResult (opp, you)) + int you\n",
    "\n",
    "guide |> Seq.sumBy matchScore"
   ]
  },
  {
   "cell_type": "markdown",
   "metadata": {},
   "source": [
    "### Part Two\n",
    "The Elf finishes helping with the tent and sneaks back over to you. \"Anyway, the second column says how the round needs to end: X means you need to lose, Y means you need to end the round in a draw, and Z means you need to win. Good luck!\"\n",
    "\n",
    "The total score is still calculated in the same way, but now you need to figure out what shape to choose so the round ends as indicated. The example above now goes like this:\n",
    "\n",
    "In the first round, your opponent will choose Rock (A), and you need the round to end in a draw (Y), so you also choose Rock. This gives you a score of 1 + 3 = 4.\n",
    "In the second round, your opponent will choose Paper (B), and you choose Rock so you lose (X) with a score of 1 + 0 = 1.\n",
    "In the third round, you will defeat your opponent's Scissors with Rock for a score of 1 + 6 = 7.\n",
    "Now that you're correctly decrypting the ultra top secret strategy guide, you would get a total score of 12.\n",
    "\n",
    "Following the Elf's instructions for the second column, what would your total score be if everything goes exactly according to your strategy guide?"
   ]
  },
  {
   "cell_type": "code",
   "execution_count": 14,
   "metadata": {
    "dotnet_interactive": {
     "language": "fsharp"
    },
    "vscode": {
     "languageId": "dotnet-interactive.fsharp"
    }
   },
   "outputs": [
    {
     "data": {
      "text/html": [
       "<div class=\"dni-plaintext\">10274</div>"
      ]
     },
     "metadata": {},
     "output_type": "display_data"
    }
   ],
   "source": [
    "let newGuide = guide |> Seq.map (fun (x, y) -> (x, enum<MatchResult> ((int y - 1) * 3)))\n",
    "\n",
    "let beat rps = enum<RPS> (int rps % 3 + 1)\n",
    "let loseTo rps = enum<RPS> ((int rps + 1) % 3 + 1)\n",
    "\n",
    "let played (opp, result) =\n",
    "  match result with \n",
    "  | MatchResult.Lose -> loseTo opp\n",
    "  | MatchResult.Draw -> opp\n",
    "  | MatchResult.Win -> beat opp\n",
    "\n",
    "newGuide |> Seq.sumBy (fun (opp, result) -> matchScore (opp, played (opp, result)))"
   ]
  },
  {
   "cell_type": "markdown",
   "metadata": {},
   "source": [
    "### Dumb ints mod 3 way"
   ]
  },
  {
   "cell_type": "code",
   "execution_count": 17,
   "metadata": {
    "dotnet_interactive": {
     "language": "fsharp"
    },
    "vscode": {
     "languageId": "dotnet-interactive.fsharp"
    }
   },
   "outputs": [
    {
     "data": {
      "text/html": [
       "<div class=\"dni-plaintext\">14375</div>"
      ]
     },
     "metadata": {},
     "output_type": "display_data"
    }
   ],
   "source": [
    "let input = \n",
    "  File.ReadAllLines \"inputs/02/input.txt\"\n",
    "  |> Seq.map (fun s -> (int s[0] - int 'A', int s[2] - int 'X'))\n",
    "\n",
    "input \n",
    "|> Seq.sumBy (fun (x,y) -> (y - x + 4) % 3 * 3 + y + 1)"
   ]
  },
  {
   "cell_type": "code",
   "execution_count": 18,
   "metadata": {
    "dotnet_interactive": {
     "language": "fsharp"
    },
    "vscode": {
     "languageId": "dotnet-interactive.fsharp"
    }
   },
   "outputs": [
    {
     "data": {
      "text/html": [
       "<div class=\"dni-plaintext\">10274</div>"
      ]
     },
     "metadata": {},
     "output_type": "display_data"
    }
   ],
   "source": [
    "input\n",
    "|> Seq.sumBy (fun (x,y) -> (y + x + 2) % 3 + 3 * y + 1)"
   ]
  }
 ],
 "metadata": {
  "kernelspec": {
   "display_name": ".NET (C#)",
   "language": "C#",
   "name": ".net-csharp"
  },
  "language_info": {
   "file_extension": ".cs",
   "mimetype": "text/x-csharp",
   "name": "C#",
   "pygments_lexer": "csharp",
   "version": "9.0"
  },
  "orig_nbformat": 4
 },
 "nbformat": 4,
 "nbformat_minor": 2
}
