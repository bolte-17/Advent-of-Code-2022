{
 "cells": [
  {
   "cell_type": "code",
   "execution_count": null,
   "metadata": {
    "dotnet_interactive": {
     "language": "fsharp"
    }
   },
   "outputs": [],
   "source": [
    "#load \"Array2D.fs\"\n",
    "let input = File.ReadAllLines \"inputs/12/input.txt\" |> array2D\n",
    "\n",
    "let start = input |> Array2D.findIndex ((=) 'S')\n",
    "let goal = input |> Array2D.findIndex ((=) 'E')\n",
    "let grid = input |> Array2D.map (function 'S' -> 0 | 'E' -> 25 | c -> int c - int 'a')\n",
    "\n",
    "let descendableNeighbors grid pt =\n",
    "  Array2D.neighbors grid pt\n",
    "  |> Seq.filter (fun (_,h) -> Array2D.item grid pt - h <= 1)\n",
    "  |> Seq.map fst\n",
    "\n",
    "let distancesFrom goal grid = \n",
    "  let rec expandBoundary = function\n",
    "    | outerRing :: rest when Set.isEmpty outerRing -> rest\n",
    "    | outerRing :: _ as rings -> \n",
    "      let nextRing = \n",
    "        rings\n",
    "        |> Seq.head\n",
    "        |> Seq.collect (descendableNeighbors grid)\n",
    "        |> Seq.filter (fun e -> Seq.forall (Set.contains e >> not) rings)\n",
    "        |> Set.ofSeq\n",
    "      expandBoundary (nextRing :: rings)\n",
    "  expandBoundary [Set.singleton goal] |> List.rev\n",
    "\n",
    "let distancesFromGoal = distancesFrom goal grid\n",
    "\n",
    "distancesFromGoal\n",
    "|> Seq.findIndex (Set.contains start)"
   ]
  },
  {
   "cell_type": "code",
   "execution_count": null,
   "metadata": {
    "dotnet_interactive": {
     "language": "fsharp"
    }
   },
   "outputs": [],
   "source": [
    "distancesFromGoal\n",
    "|> Seq.findIndex (Set.exists (fun p -> Array2D.item grid p = 0))"
   ]
  }
 ],
 "metadata": {
  "kernelspec": {
   "display_name": ".NET (C#)",
   "language": "C#",
   "name": ".net-csharp"
  },
  "polyglot_notebook": {
   "kernelInfo": {
    "defaultKernelName": "csharp",
    "items": [
     {
      "aliases": [
       "c#",
       "C#"
      ],
      "languageName": "C#",
      "name": "csharp"
     },
     {
      "aliases": [],
      "name": ".NET"
     },
     {
      "aliases": [
       "f#",
       "F#"
      ],
      "languageName": "F#",
      "name": "fsharp"
     },
     {
      "aliases": [],
      "languageName": "HTML",
      "name": "html"
     },
     {
      "aliases": [],
      "languageName": "KQL",
      "name": "kql"
     },
     {
      "aliases": [],
      "languageName": "Mermaid",
      "name": "mermaid"
     },
     {
      "aliases": [
       "powershell"
      ],
      "languageName": "PowerShell",
      "name": "pwsh"
     },
     {
      "aliases": [],
      "languageName": "SQL",
      "name": "sql"
     },
     {
      "aliases": [],
      "name": "value"
     },
     {
      "aliases": [
       "frontend"
      ],
      "name": "vscode"
     }
    ]
   }
  }
 },
 "nbformat": 4,
 "nbformat_minor": 2
}
