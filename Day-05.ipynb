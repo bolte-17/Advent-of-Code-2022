{
 "cells": [
  {
   "cell_type": "code",
   "execution_count": 22,
   "metadata": {
    "dotnet_interactive": {
     "language": "fsharp"
    },
    "vscode": {
     "languageId": "dotnet-interactive.fsharp"
    }
   },
   "outputs": [
    {
     "data": {
      "text/html": [
       "<table><thead><tr><th><i>index</i></th><th>value</th></tr></thead><tbody><tr><td>0</td><td><div class=\"dni-plaintext\">[ J, Z, G, V, T, D, B, N ]</div></td></tr><tr><td>1</td><td><div class=\"dni-plaintext\">[ F, P, W, D, M, R, S ]</div></td></tr><tr><td>2</td><td><div class=\"dni-plaintext\">[ Z, S, R, C, V ]</div></td></tr><tr><td>3</td><td><div class=\"dni-plaintext\">[ G, H, P, Z, J, T, R ]</div></td></tr><tr><td>4</td><td><div class=\"dni-plaintext\">[ F, Q, Z, D, N, J, C, T ]</div></td></tr><tr><td>5</td><td><div class=\"dni-plaintext\">[ M, F, S, G, W, P, V, N ]</div></td></tr><tr><td>6</td><td><div class=\"dni-plaintext\">[ Q, P, B, V, C, G ]</div></td></tr><tr><td>7</td><td><div class=\"dni-plaintext\">[ N, P, B, Z ]</div></td></tr><tr><td>8</td><td><div class=\"dni-plaintext\">[ J, P, W ]</div></td></tr></tbody></table>"
      ]
     },
     "metadata": {},
     "output_type": "display_data"
    }
   ],
   "source": [
    "let input = File.ReadAllLines \"inputs/05/input.txt\"\n",
    "let stacksInput = \n",
    "  input[0..7]\n",
    "  |> Array.rev\n",
    "  |> Array.map (Seq.chunkBySize 4 >> Seq.map (Seq.item 1) >> Seq.toArray)\n",
    "  |> Array.transpose\n",
    "  |> Array.map (Seq.takeWhile (not << (=) ' ') >> Seq.rev >> Seq.toList)\n",
    "\n",
    "stacksInput"
   ]
  },
  {
   "cell_type": "code",
   "execution_count": 60,
   "metadata": {
    "dotnet_interactive": {
     "language": "fsharp"
    },
    "vscode": {
     "languageId": "dotnet-interactive.fsharp"
    }
   },
   "outputs": [
    {
     "name": "stdout",
     "output_type": "stream",
     "text": [
      "Part 1: GFTNRBZPF\n",
      "Part 2: VRQWPDSGP\n"
     ]
    }
   ],
   "source": [
    "let instructions =\n",
    "  input[10..]\n",
    "  |> Array.map (fun s -> s.Split(' ') |> Array.choose (fun w -> try Some (int w) with _ -> None))\n",
    "\n",
    "let performMove lifo (stacks: char list array) [|n; fromStack; toStack|] = \n",
    "  let (moving, rest) = stacks[fromStack - 1] |> List.splitAt n\n",
    "  stacks\n",
    "  |> Array.updateAt (fromStack - 1) rest\n",
    "  |> Array.updateAt (toStack - 1) ((if lifo then List.rev moving else moving) @ stacks[toStack - 1])\n",
    "\n",
    "let run mover =\n",
    "  instructions\n",
    "  |> Seq.fold mover stacksInput\n",
    "  |> Seq.map (Seq.head >> string)\n",
    "  |> String.concat \"\"\n",
    "\n",
    "run (performMove true) |> printfn \"Part 1: %s\"\n",
    "run (performMove false) |> printfn \"Part 2: %s\""
   ]
  }
 ],
 "metadata": {
  "kernelspec": {
   "display_name": ".NET (C#)",
   "language": "C#",
   "name": ".net-csharp"
  },
  "language_info": {
   "file_extension": ".cs",
   "mimetype": "text/x-csharp",
   "name": "C#",
   "pygments_lexer": "csharp",
   "version": "9.0"
  },
  "orig_nbformat": 4
 },
 "nbformat": 4,
 "nbformat_minor": 2
}
