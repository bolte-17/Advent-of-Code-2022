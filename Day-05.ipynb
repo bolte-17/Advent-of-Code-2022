{
 "cells": [
  {
   "cell_type": "code",
   "execution_count": null,
   "metadata": {
    "dotnet_interactive": {
     "language": "fsharp"
    }
   },
   "outputs": [],
   "source": [
    "let input = File.ReadAllLines \"inputs/05/input.txt\"\n",
    "let stacksInput = \n",
    "  input[0..7]\n",
    "  |> Array.rev\n",
    "  |> Array.map (Seq.chunkBySize 4 >> Seq.map (Seq.item 1) >> Seq.toArray)\n",
    "  |> Array.transpose\n",
    "  |> Array.map (Seq.takeWhile (not << (=) ' ') >> Seq.rev >> Seq.toList)\n",
    "\n",
    "stacksInput"
   ]
  },
  {
   "cell_type": "code",
   "execution_count": null,
   "metadata": {
    "dotnet_interactive": {
     "language": "fsharp"
    }
   },
   "outputs": [],
   "source": [
    "let instructions =\n",
    "  input[10..]\n",
    "  |> Array.map (fun s -> s.Split(' ') |> Array.choose (fun w -> try Some (int w) with _ -> None))\n",
    "\n",
    "let performMove lifo (stacks: char list array) [|n; fromStack; toStack|] = \n",
    "  let (moving, rest) = stacks[fromStack - 1] |> List.splitAt n\n",
    "  stacks\n",
    "  |> Array.updateAt (fromStack - 1) rest\n",
    "  |> Array.updateAt (toStack - 1) ((if lifo then List.rev moving else moving) @ stacks[toStack - 1])\n",
    "\n",
    "let run mover =\n",
    "  instructions\n",
    "  |> Seq.fold mover stacksInput\n",
    "  |> Seq.map (Seq.head >> string)\n",
    "  |> String.concat \"\"\n",
    "\n",
    "run (performMove true) |> printfn \"Part 1: %s\"\n",
    "run (performMove false) |> printfn \"Part 2: %s\""
   ]
  }
 ],
 "metadata": {
  "kernelspec": {
   "display_name": ".NET (C#)",
   "language": "C#",
   "name": ".net-csharp"
  },
  "polyglot_notebook": {
   "kernelInfo": {
    "defaultKernelName": "csharp",
    "items": [
     {
      "aliases": [],
      "name": "csharp"
     },
     {
      "aliases": [
       "frontend"
      ],
      "name": "vscode"
     }
    ]
   }
  }
 },
 "nbformat": 4,
 "nbformat_minor": 2
}
