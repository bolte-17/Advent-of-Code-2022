{
 "cells": [
  {
   "cell_type": "code",
   "execution_count": 31,
   "metadata": {
    "dotnet_interactive": {
     "language": "fsharp"
    },
    "vscode": {
     "languageId": "dotnet-interactive.fsharp"
    }
   },
   "outputs": [
    {
     "data": {
      "text/plain": [
       "[|\"[1,1,3,1,1]\"; \"[1,1,5,1,1]\"; \"[[1],[2,3,4]]\"; \"[[1],4]\"; \"[9]\"; \"[[8,7,6]]\"; \"[[4,4],4,4]\"; \"[[4,4],4,4,4]\";\n",
       "  \"[7,7,7,7]\"; \"[7,7,7]\"; \"[]\"; \"[3]\"; \"[[[]]]\"; \"[[]]\"; \"[1,[2,[3,[4,[5,6,7]]]],8,9]\"; \"[1,[2,[3,[4,[5,6,0]]]],8,9]\"|]\n"
      ]
     },
     "metadata": {},
     "output_type": "display_data"
    }
   ],
   "source": [
    "let testInput = @\"[1,1,3,1,1]\n",
    "[1,1,5,1,1]\n",
    "\n",
    "[[1],[2,3,4]]\n",
    "[[1],4]\n",
    "\n",
    "[9]\n",
    "[[8,7,6]]\n",
    "\n",
    "[[4,4],4,4]\n",
    "[[4,4],4,4,4]\n",
    "\n",
    "[7,7,7,7]\n",
    "[7,7,7]\n",
    "\n",
    "[]\n",
    "[3]\n",
    "\n",
    "[[[]]]\n",
    "[[]]\n",
    "\n",
    "[1,[2,[3,[4,[5,6,7]]]],8,9]\n",
    "[1,[2,[3,[4,[5,6,0]]]],8,9]\".Split(\"\\n\") |> Array.filter (not << String.IsNullOrEmpty)\n",
    "\n",
    "testInput"
   ]
  },
  {
   "cell_type": "code",
   "execution_count": 32,
   "metadata": {
    "dotnet_interactive": {
     "language": "fsharp"
    },
    "vscode": {
     "languageId": "dotnet-interactive.fsharp"
    }
   },
   "outputs": [
    {
     "data": {
      "text/plain": [
       "Microsoft.DotNet.Interactive.InstallPackagesMessage\n"
      ]
     },
     "metadata": {},
     "output_type": "display_data"
    }
   ],
   "source": [
    "#r \"nuget:FParsec\"\n",
    "open FParsec"
   ]
  },
  {
   "cell_type": "code",
   "execution_count": 33,
   "metadata": {
    "dotnet_interactive": {
     "language": "fsharp"
    },
    "vscode": {
     "languageId": "dotnet-interactive.fsharp"
    }
   },
   "outputs": [
    {
     "data": {
      "text/plain": [
       "[\"[1,1,3,1,1] < [1,1,5,1,1]\"; \"[[1],[2,3,4]] < [[1],4]\"; \"[9] > [[8,7,6]]\"; \"[[4,4],4,4] < [[4,4],4,4,4]\";\n",
       " \"[7,7,7,7] > [7,7,7]\"; \"[] < [3]\"; \"[[[]]] > [[]]\"; \"[1,[2,[3,[4,[5,6,7]]]],8,9] > [1,[2,[3,[4,[5,6,0]]]],8,9]\"]\n"
      ]
     },
     "metadata": {},
     "output_type": "display_data"
    }
   ],
   "source": [
    "[<StructuredFormatDisplay(\"{AsString}\")>]\n",
    "type Packet =\n",
    "  | Int of int\n",
    "  | Packet of Packet list\n",
    "  with\n",
    "    override this.ToString() = \n",
    "      match this with \n",
    "      | Int i -> string i\n",
    "      | Packet p -> sprintf \"[%s]\" (Seq.map (sprintf \"%A\") p |> String.concat \",\")\n",
    "    member this.AsString = this.ToString()\n",
    "\n",
    "Formatter.SetPreferredMimeTypesFor(typeof<obj>, \"text/plain\")\n",
    "Formatter.Register(fun (x:obj) (writer: TextWriter) -> fprintfn writer \"%120A\" x)\n",
    "\n",
    "let ppacket, pPacket = createParserForwardedToRef()\n",
    "do pPacket := \n",
    "    ((pint32 |>> Int) <|> ppacket) |> sepBy <| (pchar ',')\n",
    "    |> between (pchar '[') (pchar ']')\n",
    "    |>> Packet\n",
    "\n",
    "let parsePacket s = match run ppacket s with Success(x,_,_) -> x | Failure(e,_,_) -> failwith \"e\"\n",
    "\n",
    "let rec comparePacket x y = \n",
    "  match x,y with\n",
    "  | Int i, Int j -> compare i j\n",
    "  | Int _ as i, p -> comparePacket (Packet [i]) p\n",
    "  | p, (Int _ as i) -> comparePacket p (Packet [i])\n",
    "  | Packet [], Packet [] -> 0\n",
    "  | Packet [], Packet (_ :: _) -> -1\n",
    "  | Packet (_ :: _), Packet [] -> 1\n",
    "  | Packet (l :: restL), Packet (r :: restR) -> \n",
    "    match comparePacket l r with 0 -> comparePacket (Packet restL) (Packet restR) | x -> x\n",
    "\n",
    "testInput\n",
    "|> Seq.map parsePacket\n",
    "|> Seq.chunkBySize 2\n",
    "|> Seq.map (fun [|x;y|] -> sprintf \"%A %c %A\" x (match comparePacket x y with 0 -> '=' | x when x < 0 -> '<' | _ -> '>') y)\n",
    "|> Seq.toList"
   ]
  },
  {
   "cell_type": "code",
   "execution_count": 34,
   "metadata": {
    "dotnet_interactive": {
     "language": "fsharp"
    },
    "vscode": {
     "languageId": "dotnet-interactive.fsharp"
    }
   },
   "outputs": [
    {
     "data": {
      "text/plain": [
       "6187\n"
      ]
     },
     "metadata": {},
     "output_type": "display_data"
    }
   ],
   "source": [
    "let packets = \n",
    "  File.ReadAllLines \"inputs/13/input.txt\"\n",
    "  |> Seq.except [\"\"]\n",
    "  |> Seq.map parsePacket\n",
    "  |> Seq.toList\n",
    "\n",
    "packets\n",
    "|> Seq.chunkBySize 2\n",
    "|> Seq.indexed\n",
    "|> Seq.filter (fun (_,[|x;y|]) -> comparePacket x y <> 1)\n",
    "|> Seq.sumBy (fst >> (+) 1)"
   ]
  },
  {
   "cell_type": "code",
   "execution_count": 35,
   "metadata": {
    "dotnet_interactive": {
     "language": "fsharp"
    },
    "vscode": {
     "languageId": "dotnet-interactive.fsharp"
    }
   },
   "outputs": [
    {
     "data": {
      "text/plain": [
       "23520\n"
      ]
     },
     "metadata": {},
     "output_type": "display_data"
    }
   ],
   "source": [
    "let dividerPackets = [parsePacket \"[[2]]\"; parsePacket \"[[6]]\"]\n",
    "\n",
    "let allPackets = \n",
    "  packets @ dividerPackets\n",
    "  |> List.sortWith comparePacket\n",
    "\n",
    "dividerPackets\n",
    "|> Seq.map (fun d -> List.findIndex ((=) d) allPackets + 1)\n",
    "|> Seq.reduce (*)"
   ]
  }
 ],
 "metadata": {
  "kernelspec": {
   "display_name": ".NET (C#)",
   "language": "C#",
   "name": ".net-csharp"
  },
  "language_info": {
   "file_extension": ".cs",
   "mimetype": "text/x-csharp",
   "name": "C#",
   "pygments_lexer": "csharp",
   "version": "9.0"
  },
  "orig_nbformat": 4
 },
 "nbformat": 4,
 "nbformat_minor": 2
}
