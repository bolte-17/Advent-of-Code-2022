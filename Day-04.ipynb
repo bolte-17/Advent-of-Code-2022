{
 "cells": [
  {
   "cell_type": "code",
   "execution_count": 16,
   "metadata": {
    "dotnet_interactive": {
     "language": "fsharp"
    },
    "vscode": {
     "languageId": "dotnet-interactive.fsharp"
    }
   },
   "outputs": [
    {
     "data": {
      "text/html": [
       "<table><thead><tr><th><i>index</i></th><th>Item1</th><th>Item2</th></tr></thead><tbody><tr><td>0</td><td><div class=\"dni-plaintext\">True</div></td><td><div class=\"dni-plaintext\">599</div></td></tr><tr><td>1</td><td><div class=\"dni-plaintext\">False</div></td><td><div class=\"dni-plaintext\">401</div></td></tr></tbody></table>"
      ]
     },
     "metadata": {},
     "output_type": "display_data"
    }
   ],
   "source": [
    "let input = File.ReadAllLines \"inputs/04/input.txt\"\n",
    "\n",
    "let splitOn (separator: string) (s: string) = s.Split(separator, StringSplitOptions.None)\n",
    "\n",
    "let ranges = input |> Seq.map (splitOn \",\" >> Array.map (splitOn \"-\" >> Array.map int))\n",
    "ranges\n",
    "\n",
    "let isFullyOverlapping [|[|a;b|];[|c;d|]|] = (a <= c && b >= d) || (c <= a && d >= b)\n",
    "\n",
    "ranges |> Seq.countBy isFullyOverlapping"
   ]
  },
  {
   "cell_type": "code",
   "execution_count": 17,
   "metadata": {
    "dotnet_interactive": {
     "language": "fsharp"
    },
    "vscode": {
     "languageId": "dotnet-interactive.fsharp"
    }
   },
   "outputs": [
    {
     "data": {
      "text/html": [
       "<table><thead><tr><th><i>index</i></th><th>Item1</th><th>Item2</th></tr></thead><tbody><tr><td>0</td><td><div class=\"dni-plaintext\">True</div></td><td><div class=\"dni-plaintext\">928</div></td></tr><tr><td>1</td><td><div class=\"dni-plaintext\">False</div></td><td><div class=\"dni-plaintext\">72</div></td></tr></tbody></table>"
      ]
     },
     "metadata": {},
     "output_type": "display_data"
    }
   ],
   "source": [
    "let isPartiallyOverlapping [|[|a;b|];[|c;d|]|] = \n",
    "  (a <= c && c <= b) ||\n",
    "  (a <= d && d <= b) || \n",
    "  (c <= a && a <= d) ||\n",
    "  (c <= b && b <= d)\n",
    "\n",
    "ranges |> Seq.countBy isPartiallyOverlapping"
   ]
  }
 ],
 "metadata": {
  "kernelspec": {
   "display_name": ".NET (C#)",
   "language": "C#",
   "name": ".net-csharp"
  },
  "language_info": {
   "file_extension": ".cs",
   "mimetype": "text/x-csharp",
   "name": "C#",
   "pygments_lexer": "csharp",
   "version": "9.0"
  },
  "orig_nbformat": 4
 },
 "nbformat": 4,
 "nbformat_minor": 2
}
