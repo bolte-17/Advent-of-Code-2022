{
 "cells": [
  {
   "cell_type": "code",
   "execution_count": null,
   "metadata": {
    "dotnet_interactive": {
     "language": "fsharp"
    }
   },
   "outputs": [],
   "source": [
    "let input = File.ReadAllLines \"inputs/04/input.txt\"\n",
    "\n",
    "let splitOn (separator: string) (s: string) = s.Split(separator, StringSplitOptions.None)\n",
    "\n",
    "let ranges = input |> Seq.map (splitOn \",\" >> Array.map (splitOn \"-\" >> Array.map int))\n",
    "ranges\n",
    "\n",
    "let isFullyOverlapping [|[|a;b|];[|c;d|]|] = (a <= c && b >= d) || (c <= a && d >= b)\n",
    "\n",
    "ranges |> Seq.countBy isFullyOverlapping"
   ]
  },
  {
   "cell_type": "code",
   "execution_count": null,
   "metadata": {
    "dotnet_interactive": {
     "language": "fsharp"
    }
   },
   "outputs": [],
   "source": [
    "let isPartiallyOverlapping [|[|a;b|];[|c;d|]|] = \n",
    "  (a <= c && c <= b) ||\n",
    "  (a <= d && d <= b) || \n",
    "  (c <= a && a <= d) ||\n",
    "  (c <= b && b <= d)\n",
    "\n",
    "ranges |> Seq.countBy isPartiallyOverlapping"
   ]
  }
 ],
 "metadata": {
  "kernelspec": {
   "display_name": ".NET (C#)",
   "language": "C#",
   "name": ".net-csharp"
  },
  "polyglot_notebook": {
   "kernelInfo": {
    "defaultKernelName": "csharp",
    "items": [
     {
      "aliases": [],
      "name": "csharp"
     },
     {
      "aliases": [
       "js"
      ],
      "languageName": "JavaScript",
      "name": "javascript"
     },
     {
      "aliases": [
       "frontend"
      ],
      "name": "vscode"
     },
     {
      "aliases": [],
      "name": "webview"
     }
    ]
   }
  }
 },
 "nbformat": 4,
 "nbformat_minor": 2
}
