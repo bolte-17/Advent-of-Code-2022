{
 "cells": [
  {
   "cell_type": "code",
   "execution_count": 15,
   "metadata": {
    "dotnet_interactive": {
     "language": "fsharp"
    },
    "vscode": {
     "languageId": "dotnet-interactive.fsharp"
    }
   },
   "outputs": [
    {
     "data": {
      "text/html": [
       "<div class=\"dni-plaintext\">12460</div>"
      ]
     },
     "metadata": {},
     "output_type": "display_data"
    }
   ],
   "source": [
    "let input = File.ReadAllLines \"inputs/10/input.txt\"\n",
    "\n",
    "let registerSeq = \n",
    "  input\n",
    "  |> Seq.collect (fun s -> match s[0] with 'a' -> [0; Int32.Parse(s[5..])] | 'n' -> [0])\n",
    "  |> Seq.scan (+) 1\n",
    "  |> Seq.take 240\n",
    "  \n",
    "registerSeq\n",
    "|> Seq.mapi (fun i x -> i+1,x)\n",
    "|> Seq.skip 19\n",
    "|> Seq.chunkBySize 40\n",
    "|> Seq.collect (Seq.take 1)\n",
    "|> Seq.sumBy ((<||) (*))"
   ]
  },
  {
   "cell_type": "code",
   "execution_count": 29,
   "metadata": {
    "dotnet_interactive": {
     "language": "fsharp"
    },
    "vscode": {
     "languageId": "dotnet-interactive.fsharp"
    }
   },
   "outputs": [
    {
     "name": "stdout",
     "output_type": "stream",
     "text": [
      "####.####.####.###..###...##..#..#.#....\n",
      "#.......#.#....#..#.#..#.#..#.#.#..#....\n",
      "###....#..###..#..#.#..#.#..#.##...#....\n",
      "#.....#...#....###..###..####.#.#..#....\n",
      "#....#....#....#....#.#..#..#.#.#..#....\n",
      "####.####.#....#....#..#.#..#.#..#.####.\n"
     ]
    }
   ],
   "source": [
    "for line in registerSeq |> Seq.chunkBySize 40 do\n",
    "  line\n",
    "  |> Seq.mapi (fun i x -> if abs (i-x) <= 1 then '#' else '.')\n",
    "  |> String.Concat\n",
    "  |> printfn \"%s\"\n"
   ]
  }
 ],
 "metadata": {
  "kernelspec": {
   "display_name": ".NET (C#)",
   "language": "C#",
   "name": ".net-csharp"
  },
  "language_info": {
   "file_extension": ".cs",
   "mimetype": "text/x-csharp",
   "name": "C#",
   "pygments_lexer": "csharp",
   "version": "9.0"
  },
  "orig_nbformat": 4
 },
 "nbformat": 4,
 "nbformat_minor": 2
}
