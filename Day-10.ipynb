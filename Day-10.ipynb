{
 "cells": [
  {
   "cell_type": "code",
   "execution_count": null,
   "metadata": {
    "dotnet_interactive": {
     "language": "fsharp"
    }
   },
   "outputs": [],
   "source": [
    "let input = File.ReadAllLines \"inputs/10/input.txt\"\n",
    "\n",
    "let registerSeq = \n",
    "  input\n",
    "  |> Seq.collect (fun s -> match s[0] with 'a' -> [0; Int32.Parse(s[5..])] | 'n' -> [0])\n",
    "  |> Seq.scan (+) 1\n",
    "  |> Seq.take 240\n",
    "  \n",
    "registerSeq\n",
    "|> Seq.mapi (fun i x -> i+1,x)\n",
    "|> Seq.skip 19\n",
    "|> Seq.chunkBySize 40\n",
    "|> Seq.collect (Seq.take 1)\n",
    "|> Seq.sumBy ((<||) (*))"
   ]
  },
  {
   "cell_type": "code",
   "execution_count": null,
   "metadata": {
    "dotnet_interactive": {
     "language": "fsharp"
    }
   },
   "outputs": [],
   "source": [
    "for line in registerSeq |> Seq.chunkBySize 40 do\n",
    "  line\n",
    "  |> Seq.mapi (fun i x -> if abs (i-x) <= 1 then '#' else '.')\n",
    "  |> String.Concat\n",
    "  |> printfn \"%s\"\n"
   ]
  }
 ],
 "metadata": {
  "kernelspec": {
   "display_name": ".NET (C#)",
   "language": "C#",
   "name": ".net-csharp"
  },
  "polyglot_notebook": {
   "kernelInfo": {
    "defaultKernelName": "csharp",
    "items": [
     {
      "aliases": [
       "c#",
       "C#"
      ],
      "languageName": "C#",
      "name": "csharp"
     },
     {
      "aliases": [],
      "name": ".NET"
     },
     {
      "aliases": [
       "f#",
       "F#"
      ],
      "languageName": "F#",
      "name": "fsharp"
     },
     {
      "aliases": [],
      "languageName": "HTML",
      "name": "html"
     },
     {
      "aliases": [],
      "languageName": "KQL",
      "name": "kql"
     },
     {
      "aliases": [],
      "languageName": "Mermaid",
      "name": "mermaid"
     },
     {
      "aliases": [
       "powershell"
      ],
      "languageName": "PowerShell",
      "name": "pwsh"
     },
     {
      "aliases": [],
      "languageName": "SQL",
      "name": "sql"
     },
     {
      "aliases": [],
      "name": "value"
     },
     {
      "aliases": [
       "frontend"
      ],
      "name": "vscode"
     },
     {
      "aliases": [
       "js"
      ],
      "languageName": "JavaScript",
      "name": "javascript"
     },
     {
      "aliases": [],
      "name": "webview"
     }
    ]
   }
  }
 },
 "nbformat": 4,
 "nbformat_minor": 2
}
