{
 "cells": [
  {
   "cell_type": "markdown",
   "metadata": {},
   "source": [
    "Utilities for parsing common patterns of input files."
   ]
  },
  {
   "cell_type": "code",
   "execution_count": null,
   "metadata": {
    "dotnet_interactive": {
     "language": "fsharp"
    },
    "vscode": {
     "languageId": "dotnet-interactive.fsharp"
    }
   },
   "outputs": [],
   "source": [
    "module InputFile =\n",
    "  open System.Collections.Generic\n",
    "  let private splitOn (predicate: 'a -> bool) (s: 'a seq) =\n",
    "    let tryMoveNext (enumerator: IEnumerator<_>) = try enumerator.MoveNext() with _ -> false\n",
    "    use en = s.GetEnumerator()\n",
    "    seq {\n",
    "      while tryMoveNext en do\n",
    "        yield seq {\n",
    "          let mutable loop = true\n",
    "          while loop && not (predicate en.Current) do\n",
    "            yield en.Current\n",
    "            loop <- tryMoveNext en\n",
    "        } |> Seq.toList\n",
    "    }\n",
    "\n",
    "  let readLineGroups lineParser file =\n",
    "    File.ReadAllLines file\n",
    "    |> splitOn String.IsNullOrEmpty\n",
    "    |> Seq.map (List.map lineParser)\n",
    "    |> Seq.toList"
   ]
  }
 ],
 "metadata": {
  "kernelspec": {
   "display_name": ".NET (C#)",
   "language": "C#",
   "name": ".net-csharp"
  },
  "language_info": {
   "file_extension": ".cs",
   "mimetype": "text/x-csharp",
   "name": "C#",
   "pygments_lexer": "csharp",
   "version": "9.0"
  }
 },
 "nbformat": 4,
 "nbformat_minor": 5
}
