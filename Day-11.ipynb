{
 "cells": [
  {
   "cell_type": "code",
   "execution_count": 14,
   "metadata": {
    "dotnet_interactive": {
     "language": "fsharp"
    },
    "vscode": {
     "languageId": "dotnet-interactive.fsharp"
    }
   },
   "outputs": [
    {
     "data": {
      "text/html": [
       "<div><div></div><div></div><div><strong>Installed Packages</strong><ul><li><span>FParsec, 1.1.1</span></li></ul></div></div>"
      ]
     },
     "metadata": {},
     "output_type": "display_data"
    }
   ],
   "source": [
    "#r \"nuget:FParsec\"\n",
    "open FParsec"
   ]
  },
  {
   "cell_type": "code",
   "execution_count": 15,
   "metadata": {
    "dotnet_interactive": {
     "language": "fsharp"
    },
    "vscode": {
     "languageId": "dotnet-interactive.fsharp"
    }
   },
   "outputs": [
    {
     "data": {
      "text/html": [
       "<div class=\"dni-plaintext\">61503</div>"
      ]
     },
     "metadata": {},
     "output_type": "display_data"
    }
   ],
   "source": [
    "let input = File.ReadAllText \"inputs/11/input.txt\"\n",
    "\n",
    "type Op = Old | Const of int\n",
    "type Monkey = \n",
    "  {\n",
    "    Items: int list\n",
    "    Operation: char * Op\n",
    "    Test: int * int * int\n",
    "    BusinessDone: int;\n",
    "    WorryDecay: int64 -> int\n",
    "  }\n",
    "  with \n",
    "    member m.doBusiness x = \n",
    "      let (op, operand) = m.Operation\n",
    "      (match op with '*' -> (*) | '+' -> (+)) \n",
    "        (int64 x)\n",
    "        (int64 (match operand with Old -> x | Const n -> n)) |> m.WorryDecay\n",
    "    member m.pickTarget x =\n",
    "      let (divisor, ifTrue, ifFalse) = m.Test\n",
    "      if x % divisor = 0 then ifTrue else ifFalse\n",
    "    static member catch item (m:Monkey) = { m with Items = item :: m.Items}\n",
    "\n",
    "let monkeyId = skipCharsTillStringCI \"monkey \" true 50 >>. pint32\n",
    "let startingItems = skipCharsTillString \": \" true 50 >>. sepBy (pint32) (pstring \", \")\n",
    "let operation =  \n",
    "  (skipCharsTillString \"= old \" true 50 >>. anyChar .>> spaces) .>>. ((pstring \"old\" >>% Old) <|> (pint32 |>> Const))\n",
    "let test = tuple3 (skipCharsTillString \"divisible by \" true 50 >>. pint32) monkeyId monkeyId\n",
    "\n",
    "let monkeyParser = \n",
    "  monkeyId >>. pipe3 startingItems operation test (fun i o t -> \n",
    "  {\n",
    "    Items = i;\n",
    "    Operation = o; \n",
    "    Test = t; \n",
    "    BusinessDone = 0;\n",
    "    WorryDecay = fun x -> int (x / 3L)\n",
    "  })\n",
    "\n",
    "let monkeys = \n",
    "  match run (many monkeyParser) input with\n",
    "  | Success(monkeys,_,_) -> monkeys\n",
    "  | Failure(e,_,_) -> failwith e\n",
    "  |> Seq.toArray\n",
    "\n",
    "let throw target item monkeys = monkeys |> Array.updateAt target (Monkey.catch item monkeys[target]) \n",
    "\n",
    "let takeTurn (monkeys: Monkey array) id =\n",
    "  let monkey = monkeys[id]\n",
    "  monkey.Items\n",
    "  |> Seq.map (monkey.doBusiness)\n",
    "  |> Seq.map (fun i -> monkey.pickTarget i,i)\n",
    "  |> Seq.fold (fun m (t,i) -> throw t i m) monkeys\n",
    "  |> Array.updateAt id {monkey with Items = []; BusinessDone = monkey.BusinessDone + monkey.Items.Length}\n",
    "\n",
    "let doRound monkeys =\n",
    "  Seq.fold takeTurn monkeys [0..monkeys.Length-1]\n",
    "\n",
    "let monkeyBusinessLevel = \n",
    "  Seq.map (fun x -> int64 x.BusinessDone)\n",
    "  >> Seq.sortDescending\n",
    "  >> Seq.take 2\n",
    "  >> Seq.reduce (*)\n",
    "\n",
    "let repeat n f = Seq.foldBack (fun () -> f) (Seq.replicate n ()) \n",
    "\n",
    "monkeys\n",
    "|> repeat 20 doRound\n",
    "|> monkeyBusinessLevel\n"
   ]
  },
  {
   "cell_type": "code",
   "execution_count": 16,
   "metadata": {
    "dotnet_interactive": {
     "language": "fsharp"
    },
    "vscode": {
     "languageId": "dotnet-interactive.fsharp"
    }
   },
   "outputs": [
    {
     "data": {
      "text/html": [
       "<div class=\"dni-plaintext\">14081365540</div>"
      ]
     },
     "metadata": {},
     "output_type": "display_data"
    }
   ],
   "source": [
    "let bigModulo = \n",
    "  monkeys \n",
    "  |> Seq.map (fun {Test = (d,_,_)} -> int64 d) \n",
    "  |> Seq.distinct\n",
    "  |> Seq.reduce (*)\n",
    "\n",
    "let moreMonkeys = \n",
    "  monkeys\n",
    "  |> Array.map (fun m -> { m with WorryDecay = (fun x -> int (x % bigModulo))})\n",
    "\n",
    "moreMonkeys\n",
    "|> repeat 10000 doRound\n",
    "|> monkeyBusinessLevel\n"
   ]
  }
 ],
 "metadata": {
  "kernelspec": {
   "display_name": ".NET (C#)",
   "language": "C#",
   "name": ".net-csharp"
  },
  "language_info": {
   "file_extension": ".cs",
   "mimetype": "text/x-csharp",
   "name": "C#",
   "pygments_lexer": "csharp",
   "version": "9.0"
  },
  "orig_nbformat": 4
 },
 "nbformat": 4,
 "nbformat_minor": 2
}
